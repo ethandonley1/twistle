{
 "cells": [
  {
   "cell_type": "code",
   "execution_count": 4,
   "id": "f7c64c2f",
   "metadata": {},
   "outputs": [
    {
     "name": "stdout",
     "output_type": "stream",
     "text": [
      "Available tables:\n",
      "          name\n",
      "0         user\n",
      "1   user_stats\n",
      "2  game_result\n",
      "3  user_device\n"
     ]
    }
   ],
   "source": [
    "import pandas as pd\n",
    "import sqlite3\n",
    "from sqlalchemy import create_engine\n",
    "import os\n",
    "\n",
    "# Adjust this path to point to your SQLite database file\n",
    "DB_PATH = os.path.abspath('/Users/willbardenheuer/twistle/instance/twistle.db')\n",
    "\n",
    "# Create SQLAlchemy engine\n",
    "engine = create_engine(f'sqlite:///{DB_PATH}')\n",
    "\n",
    "# Test connection\n",
    "try:\n",
    "    # List all tables in the database\n",
    "    table_query = \"SELECT name FROM sqlite_master WHERE type='table'\"\n",
    "    tables = pd.read_sql(table_query, engine)\n",
    "    print(\"Available tables:\")\n",
    "    print(tables)\n",
    "except Exception as e:\n",
    "    print(f\"Error connecting to database: {e}\")"
   ]
  },
  {
   "cell_type": "code",
   "execution_count": 6,
   "id": "f92091d5",
   "metadata": {},
   "outputs": [
    {
     "data": {
      "application/vnd.microsoft.datawrangler.viewer.v0+json": {
       "columns": [
        {
         "name": "index",
         "rawType": "int64",
         "type": "integer"
        },
        {
         "name": "id",
         "rawType": "object",
         "type": "string"
        },
        {
         "name": "name",
         "rawType": "object",
         "type": "string"
        },
        {
         "name": "email",
         "rawType": "object",
         "type": "string"
        },
        {
         "name": "profile_pic",
         "rawType": "object",
         "type": "string"
        },
        {
         "name": "created_at",
         "rawType": "object",
         "type": "string"
        },
        {
         "name": "id",
         "rawType": "int64",
         "type": "integer"
        },
        {
         "name": "user_id",
         "rawType": "object",
         "type": "string"
        },
        {
         "name": "games_played",
         "rawType": "int64",
         "type": "integer"
        },
        {
         "name": "total_score",
         "rawType": "int64",
         "type": "integer"
        },
        {
         "name": "total_words_solved",
         "rawType": "int64",
         "type": "integer"
        },
        {
         "name": "best_score",
         "rawType": "int64",
         "type": "integer"
        },
        {
         "name": "avg_score",
         "rawType": "float64",
         "type": "float"
        },
        {
         "name": "total_anagrams_found",
         "rawType": "int64",
         "type": "integer"
        },
        {
         "name": "streak",
         "rawType": "int64",
         "type": "integer"
        },
        {
         "name": "last_played",
         "rawType": "object",
         "type": "string"
        },
        {
         "name": "id",
         "rawType": "int64",
         "type": "integer"
        },
        {
         "name": "user_id",
         "rawType": "object",
         "type": "string"
        },
        {
         "name": "ip_address",
         "rawType": "object",
         "type": "string"
        },
        {
         "name": "device_type",
         "rawType": "object",
         "type": "string"
        },
        {
         "name": "browser_type",
         "rawType": "object",
         "type": "string"
        },
        {
         "name": "last_login",
         "rawType": "object",
         "type": "string"
        },
        {
         "name": "country",
         "rawType": "object",
         "type": "string"
        },
        {
         "name": "created_at",
         "rawType": "object",
         "type": "string"
        }
       ],
       "conversionMethod": "pd.DataFrame",
       "ref": "5315d7fb-b601-4f64-b184-32a3432a3d04",
       "rows": [
        [
         "0",
         "108817548743609753288",
         "Will",
         "bardenwl@miamioh.edu",
         "https://lh3.googleusercontent.com/a/ACg8ocKYpAGgwKDCBIrIDj0NrtxT0zLx4n18GCYIZDJj_lKVPFi5bow=s96-c",
         "2025-05-04 16:45:53.441509",
         "1",
         "108817548743609753288",
         "1",
         "810",
         "8",
         "810",
         "810.0",
         "2",
         "1",
         "2025-05-04 16:48:54.106701",
         "1",
         "108817548743609753288",
         "127.0.0.1",
         "desktop",
         "Chrome",
         "2025-05-04 16:46:58.606357",
         "Undefined",
         "2025-05-04 16:46:58.606367"
        ],
        [
         "1",
         "103543613363160694078",
         "Will",
         "williambardenheuer@gmail.com",
         "https://lh3.googleusercontent.com/a/ACg8ocIr3Nvjfvvi--1Aq5mChggHJ9hdImc2vD5acILj8kSKCYl9LgDq=s96-c",
         "2025-05-04 17:32:35.625834",
         "2",
         "103543613363160694078",
         "2",
         "1831",
         "20",
         "918",
         "915.5",
         "0",
         "2",
         "2025-05-04 17:47:22.587724",
         "2",
         "103543613363160694078",
         "127.0.0.1",
         "desktop",
         "Chrome",
         "2025-05-04 17:32:36.003086",
         "Undefined",
         "2025-05-04 17:32:36.003095"
        ],
        [
         "2",
         "103543613363160694078",
         "Will",
         "williambardenheuer@gmail.com",
         "https://lh3.googleusercontent.com/a/ACg8ocIr3Nvjfvvi--1Aq5mChggHJ9hdImc2vD5acILj8kSKCYl9LgDq=s96-c",
         "2025-05-04 17:32:35.625834",
         "2",
         "103543613363160694078",
         "2",
         "1831",
         "20",
         "918",
         "915.5",
         "0",
         "2",
         "2025-05-04 17:47:22.587724",
         "3",
         "103543613363160694078",
         "127.0.0.1",
         "desktop",
         "Safari",
         "2025-05-04 17:45:26.656306",
         "UN",
         "2025-05-04 17:45:26.656315"
        ]
       ],
       "shape": {
        "columns": 23,
        "rows": 3
       }
      },
      "text/html": [
       "<div>\n",
       "<style scoped>\n",
       "    .dataframe tbody tr th:only-of-type {\n",
       "        vertical-align: middle;\n",
       "    }\n",
       "\n",
       "    .dataframe tbody tr th {\n",
       "        vertical-align: top;\n",
       "    }\n",
       "\n",
       "    .dataframe thead th {\n",
       "        text-align: right;\n",
       "    }\n",
       "</style>\n",
       "<table border=\"1\" class=\"dataframe\">\n",
       "  <thead>\n",
       "    <tr style=\"text-align: right;\">\n",
       "      <th></th>\n",
       "      <th>id</th>\n",
       "      <th>name</th>\n",
       "      <th>email</th>\n",
       "      <th>profile_pic</th>\n",
       "      <th>created_at</th>\n",
       "      <th>id</th>\n",
       "      <th>user_id</th>\n",
       "      <th>games_played</th>\n",
       "      <th>total_score</th>\n",
       "      <th>total_words_solved</th>\n",
       "      <th>...</th>\n",
       "      <th>streak</th>\n",
       "      <th>last_played</th>\n",
       "      <th>id</th>\n",
       "      <th>user_id</th>\n",
       "      <th>ip_address</th>\n",
       "      <th>device_type</th>\n",
       "      <th>browser_type</th>\n",
       "      <th>last_login</th>\n",
       "      <th>country</th>\n",
       "      <th>created_at</th>\n",
       "    </tr>\n",
       "  </thead>\n",
       "  <tbody>\n",
       "    <tr>\n",
       "      <th>0</th>\n",
       "      <td>108817548743609753288</td>\n",
       "      <td>Will</td>\n",
       "      <td>bardenwl@miamioh.edu</td>\n",
       "      <td>https://lh3.googleusercontent.com/a/ACg8ocKYpA...</td>\n",
       "      <td>2025-05-04 16:45:53.441509</td>\n",
       "      <td>1</td>\n",
       "      <td>108817548743609753288</td>\n",
       "      <td>1</td>\n",
       "      <td>810</td>\n",
       "      <td>8</td>\n",
       "      <td>...</td>\n",
       "      <td>1</td>\n",
       "      <td>2025-05-04 16:48:54.106701</td>\n",
       "      <td>1</td>\n",
       "      <td>108817548743609753288</td>\n",
       "      <td>127.0.0.1</td>\n",
       "      <td>desktop</td>\n",
       "      <td>Chrome</td>\n",
       "      <td>2025-05-04 16:46:58.606357</td>\n",
       "      <td>Undefined</td>\n",
       "      <td>2025-05-04 16:46:58.606367</td>\n",
       "    </tr>\n",
       "    <tr>\n",
       "      <th>1</th>\n",
       "      <td>103543613363160694078</td>\n",
       "      <td>Will</td>\n",
       "      <td>williambardenheuer@gmail.com</td>\n",
       "      <td>https://lh3.googleusercontent.com/a/ACg8ocIr3N...</td>\n",
       "      <td>2025-05-04 17:32:35.625834</td>\n",
       "      <td>2</td>\n",
       "      <td>103543613363160694078</td>\n",
       "      <td>2</td>\n",
       "      <td>1831</td>\n",
       "      <td>20</td>\n",
       "      <td>...</td>\n",
       "      <td>2</td>\n",
       "      <td>2025-05-04 17:47:22.587724</td>\n",
       "      <td>2</td>\n",
       "      <td>103543613363160694078</td>\n",
       "      <td>127.0.0.1</td>\n",
       "      <td>desktop</td>\n",
       "      <td>Chrome</td>\n",
       "      <td>2025-05-04 17:32:36.003086</td>\n",
       "      <td>Undefined</td>\n",
       "      <td>2025-05-04 17:32:36.003095</td>\n",
       "    </tr>\n",
       "    <tr>\n",
       "      <th>2</th>\n",
       "      <td>103543613363160694078</td>\n",
       "      <td>Will</td>\n",
       "      <td>williambardenheuer@gmail.com</td>\n",
       "      <td>https://lh3.googleusercontent.com/a/ACg8ocIr3N...</td>\n",
       "      <td>2025-05-04 17:32:35.625834</td>\n",
       "      <td>2</td>\n",
       "      <td>103543613363160694078</td>\n",
       "      <td>2</td>\n",
       "      <td>1831</td>\n",
       "      <td>20</td>\n",
       "      <td>...</td>\n",
       "      <td>2</td>\n",
       "      <td>2025-05-04 17:47:22.587724</td>\n",
       "      <td>3</td>\n",
       "      <td>103543613363160694078</td>\n",
       "      <td>127.0.0.1</td>\n",
       "      <td>desktop</td>\n",
       "      <td>Safari</td>\n",
       "      <td>2025-05-04 17:45:26.656306</td>\n",
       "      <td>UN</td>\n",
       "      <td>2025-05-04 17:45:26.656315</td>\n",
       "    </tr>\n",
       "  </tbody>\n",
       "</table>\n",
       "<p>3 rows × 23 columns</p>\n",
       "</div>"
      ],
      "text/plain": [
       "                      id  name                         email  \\\n",
       "0  108817548743609753288  Will          bardenwl@miamioh.edu   \n",
       "1  103543613363160694078  Will  williambardenheuer@gmail.com   \n",
       "2  103543613363160694078  Will  williambardenheuer@gmail.com   \n",
       "\n",
       "                                         profile_pic  \\\n",
       "0  https://lh3.googleusercontent.com/a/ACg8ocKYpA...   \n",
       "1  https://lh3.googleusercontent.com/a/ACg8ocIr3N...   \n",
       "2  https://lh3.googleusercontent.com/a/ACg8ocIr3N...   \n",
       "\n",
       "                   created_at  id                user_id  games_played  \\\n",
       "0  2025-05-04 16:45:53.441509   1  108817548743609753288             1   \n",
       "1  2025-05-04 17:32:35.625834   2  103543613363160694078             2   \n",
       "2  2025-05-04 17:32:35.625834   2  103543613363160694078             2   \n",
       "\n",
       "   total_score  total_words_solved  ...  streak                 last_played  \\\n",
       "0          810                   8  ...       1  2025-05-04 16:48:54.106701   \n",
       "1         1831                  20  ...       2  2025-05-04 17:47:22.587724   \n",
       "2         1831                  20  ...       2  2025-05-04 17:47:22.587724   \n",
       "\n",
       "   id                user_id ip_address  device_type browser_type  \\\n",
       "0   1  108817548743609753288  127.0.0.1      desktop       Chrome   \n",
       "1   2  103543613363160694078  127.0.0.1      desktop       Chrome   \n",
       "2   3  103543613363160694078  127.0.0.1      desktop       Safari   \n",
       "\n",
       "                   last_login    country                  created_at  \n",
       "0  2025-05-04 16:46:58.606357  Undefined  2025-05-04 16:46:58.606367  \n",
       "1  2025-05-04 17:32:36.003086  Undefined  2025-05-04 17:32:36.003095  \n",
       "2  2025-05-04 17:45:26.656306         UN  2025-05-04 17:45:26.656315  \n",
       "\n",
       "[3 rows x 23 columns]"
      ]
     },
     "execution_count": 6,
     "metadata": {},
     "output_type": "execute_result"
    }
   ],
   "source": [
    "# Query to join all tables\n",
    "join_query = \"\"\"\n",
    "SELECT \n",
    "    *\n",
    "FROM user u\n",
    "LEFT JOIN user_stats us ON u.id = us.user_id\n",
    "LEFT JOIN user_device ud ON u.id = ud.user_id\n",
    "\"\"\"\n",
    "\n",
    "# Execute the query\n",
    "all_data = pd.read_sql(join_query, engine)\n",
    "\n",
    "# Display the first few rows of the joined data\n",
    "all_data.head()"
   ]
  },
  {
   "cell_type": "code",
   "execution_count": 11,
   "id": "14f66af4",
   "metadata": {},
   "outputs": [
    {
     "name": "stdout",
     "output_type": "stream",
     "text": [
      "IP: fe80::f652:46ff:fe0b:8a6c\n",
      "City: None\n",
      "Region: None\n",
      "Country: None\n",
      "Location (lat,long): None\n"
     ]
    }
   ],
   "source": [
    "import requests\n",
    "\n",
    "ip = 'fe80::f652:46ff:fe0b:8a6c' \n",
    "response = requests.get(f'https://ipinfo.io/{ip}/json')\n",
    "data = response.json()\n",
    "\n",
    "print(f\"IP: {data.get('ip')}\")\n",
    "print(f\"City: {data.get('city')}\")\n",
    "print(f\"Region: {data.get('region')}\")\n",
    "print(f\"Country: {data.get('country')}\")\n",
    "print(f\"Location (lat,long): {data.get('loc')}\")\n"
   ]
  },
  {
   "cell_type": "code",
   "execution_count": 13,
   "id": "7dab5113",
   "metadata": {},
   "outputs": [
    {
     "data": {
      "text/plain": [
       "'🇨🇮'"
      ]
     },
     "execution_count": 13,
     "metadata": {},
     "output_type": "execute_result"
    }
   ],
   "source": [
    "def get_country_flag(country_code):\n",
    "    \"\"\"Convert country code to flag emoji.\"\"\"\n",
    "    if country_code == 'UN' or not country_code:\n",
    "        return '🌐'  # Globe emoji for unknown\n",
    "    # Convert country code to flag emoji using regional indicator symbols\n",
    "    return ''.join(chr(ord('🇦') + ord(c.upper()) - ord('A')) for c in country_code)\n",
    "get_country_flag('CI')"
   ]
  },
  {
   "cell_type": "code",
   "execution_count": null,
   "id": "3b2d0efb",
   "metadata": {},
   "outputs": [
    {
     "data": {
      "text/plain": [
       "(False, 'Please choose an appropriate screen name.')"
      ]
     },
     "execution_count": 21,
     "metadata": {},
     "output_type": "execute_result"
    }
   ],
   "source": [
    "def validate_screen_name(name):\n",
    "    \"\"\"Validate screen name for profanity and length.\"\"\"\n",
    "    # Check for any profane words in the name\n",
    "    import re\n",
    "    from better_profanity import profanity\n",
    "\n",
    "    profanity.load_censor_words()\n",
    "\n",
    "    if profanity.contains_profanity(name) or any(profanity.contains_profanity(part) for part in re.findall(r'[a-zA-Z]+', name)):\n",
    "        return False, \"Please choose an appropriate screen name.\"\n",
    "    else:\n",
    "        # Check length\n",
    "        if len(name) > 15:\n",
    "            return False, \"Screen name must be 15 characters or less.\"\n",
    "        else:\n",
    "            return True, \"Valid screen name.\"\n",
    "    \n",
    "validate_screen_name('retardfuck')\n",
    "\n"
   ]
  },
  {
   "cell_type": "code",
   "execution_count": 27,
   "id": "bda44d8d",
   "metadata": {},
   "outputs": [
    {
     "name": "stdout",
     "output_type": "stream",
     "text": [
      "retardfuck\n"
     ]
    }
   ],
   "source": [
    "import re\n",
    "name = \"retardfuck\"\n",
    "for part in re.findall(r'[a-zA-Z]+', name):\n",
    "    print(part)"
   ]
  },
  {
   "cell_type": "code",
   "execution_count": 30,
   "id": "7f71fa40",
   "metadata": {},
   "outputs": [
    {
     "name": "stdout",
     "output_type": "stream",
     "text": [
      "Profanity detected in the name.\n"
     ]
    }
   ],
   "source": [
    "from better_profanity import profanity\n",
    "\n",
    "profanity.load_censor_words()\n",
    "\n",
    "# Check for profanity in the name\n",
    "if profanity.contains_profanity(name) or any(str(slur) in name.lower() for slur in profanity.CENSOR_WORDSET):\n",
    "    print(\"Profanity detected in the name.\")\n",
    "else:\n",
    "    print(\"No profanity detected in the name.\")"
   ]
  }
 ],
 "metadata": {
  "kernelspec": {
   "display_name": "venv",
   "language": "python",
   "name": "python3"
  },
  "language_info": {
   "codemirror_mode": {
    "name": "ipython",
    "version": 3
   },
   "file_extension": ".py",
   "mimetype": "text/x-python",
   "name": "python",
   "nbconvert_exporter": "python",
   "pygments_lexer": "ipython3",
   "version": "3.12.4"
  }
 },
 "nbformat": 4,
 "nbformat_minor": 5
}
